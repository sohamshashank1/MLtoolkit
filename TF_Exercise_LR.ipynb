{
  "nbformat": 4,
  "nbformat_minor": 0,
  "metadata": {
    "colab": {
      "name": "TF_Exercise_LR.ipynb",
      "version": "0.3.2",
      "provenance": [],
      "collapsed_sections": []
    },
    "kernelspec": {
      "name": "python3",
      "display_name": "Python 3"
    }
  },
  "cells": [
    {
      "cell_type": "markdown",
      "metadata": {
        "id": "view-in-github",
        "colab_type": "text"
      },
      "source": [
        "[View in Colaboratory](https://colab.research.google.com/github/sohamshashank1/MLtoolkit/blob/master/TF_Exercise_LR.ipynb)"
      ]
    },
    {
      "metadata": {
        "id": "l--MXPPywLhe",
        "colab_type": "text"
      },
      "cell_type": "markdown",
      "source": [
        "**LINEAR REGRESSION IN TF **"
      ]
    },
    {
      "metadata": {
        "id": "Iwng62W6vbS2",
        "colab_type": "code",
        "colab": {}
      },
      "cell_type": "code",
      "source": [
        "import matplotlib.pyplot as plt\n",
        "import numpy as np\n",
        "import tensorflow as tf\n",
        "from sklearn import datasets\n",
        "from tensorflow.python.framework import ops\n",
        "ops.reset_default_graph()\n",
        "sess = tf.Session()\n",
        "iris = datasets.load_iris()\n",
        "x_vals = np.array([x[3] for x in iris.data])\n",
        "y_vals = np.array([y[0] for y in iris.data])"
      ],
      "execution_count": 0,
      "outputs": []
    },
    {
      "metadata": {
        "id": "yFURWuB_vq7p",
        "colab_type": "code",
        "colab": {}
      },
      "cell_type": "code",
      "source": [
        "learning_rate = 0.05\n",
        "batch_size = 25\n",
        "x_data = tf.placeholder(shape=[None, 1], dtype=tf.float32)\n",
        "y_target = tf.placeholder(shape=[None, 1], dtype=tf.float32)\n",
        "A = tf.Variable(tf.random_normal(shape=[1,1]))\n",
        "b = tf.Variable(tf.random_normal(shape=[1,1]))"
      ],
      "execution_count": 0,
      "outputs": []
    },
    {
      "metadata": {
        "id": "0BKmz1_rvvv3",
        "colab_type": "code",
        "colab": {}
      },
      "cell_type": "code",
      "source": [
        "model_output = tf.add(tf.matmul(x_data, A), b)"
      ],
      "execution_count": 0,
      "outputs": []
    },
    {
      "metadata": {
        "id": "3FB1GnAKvyxD",
        "colab_type": "code",
        "colab": {}
      },
      "cell_type": "code",
      "source": [
        "loss = tf.reduce_mean(tf.square(y_target - model_output))\n",
        "\n",
        "\n",
        "init = tf.global_variables_initializer()\n",
        "sess.run(init)\n",
        "my_opt = tf.train.GradientDescentOptimizer(learning_rate)\n",
        "train_step = my_opt.minimize(loss)"
      ],
      "execution_count": 0,
      "outputs": []
    },
    {
      "metadata": {
        "id": "xAjjAXO_v1iM",
        "colab_type": "code",
        "colab": {
          "base_uri": "https://localhost:8080/",
          "height": 153
        },
        "outputId": "53437d14-b486-47d1-9a04-5c7839b0dc3e"
      },
      "cell_type": "code",
      "source": [
        "loss_vec = []\n",
        "for i in range(100):\n",
        "    rand_index = np.random.choice(len(x_vals), size=batch_size)\n",
        "    rand_x = np.transpose([x_vals[rand_index]])\n",
        "    rand_y = np.transpose([y_vals[rand_index]])\n",
        "    sess.run(train_step, feed_dict={x_data: rand_x, y_target: rand_y})\n",
        "    temp_loss = sess.run(loss, feed_dict={x_data: rand_x, y_target: rand_y})\n",
        "    loss_vec.append(temp_loss)\n",
        "    if (i+1)%25==0:\n",
        "        print('Step #' + str(i+1) + ' A = ' + str(sess.run(A)) + ' b = ' + str(sess.run(b)))\n",
        "        print('Loss = ''' + str(temp_loss))"
      ],
      "execution_count": 5,
      "outputs": [
        {
          "output_type": "stream",
          "text": [
            "Step #25 A = [[1.9474757]] b = [[2.9964046]]\n",
            "Loss = 1.144563\n",
            "Step #50 A = [[1.6112084]] b = [[3.7326016]]\n",
            "Loss = 0.5879438\n",
            "Step #75 A = [[1.3004153]] b = [[4.1650796]]\n",
            "Loss = 0.34875435\n",
            "Step #100 A = [[1.1125762]] b = [[4.4028826]]\n",
            "Loss = 0.42327937\n"
          ],
          "name": "stdout"
        }
      ]
    },
    {
      "metadata": {
        "id": "el2hqWtVxXXq",
        "colab_type": "code",
        "colab": {
          "base_uri": "https://localhost:8080/",
          "height": 51
        },
        "outputId": "63c152a6-f8de-48b7-ac06-f814d7115160"
      },
      "cell_type": "code",
      "source": [
        "## USING ANOTHER LOSS \n",
        "from sklearn import datasets\n",
        "sess = tf.Session()\n",
        "iris = datasets.load_iris()\n",
        "x_vals = np.array([x[3] for x in iris.data])\n",
        "y_vals = np.array([y[0] for y in iris.data])\n",
        "batch_size = 25\n",
        "learning_rate = 0.1 # Will not converge with learning rate at 0.4\n",
        "iterations = 50\n",
        "x_data = tf.placeholder(shape=[None, 1], dtype=tf.float32)\n",
        "y_target = tf.placeholder(shape=[None, 1], dtype=tf.float32)\n",
        "A = tf.Variable(tf.random_normal(shape=[1,1]))\n",
        "b = tf.Variable(tf.random_normal(shape=[1,1]))\n",
        "model_output = tf.add(tf.matmul(x_data, A), b)\n",
        "\n",
        "\n",
        "loss_l1 = tf.reduce_mean(tf.abs(y_target - model_output))\n",
        "\n",
        "\n",
        "init = tf.global_variables_initializer()\n",
        "sess.run(init)\n",
        "my_opt_l1 = tf.train.GradientDescentOptimizer(learning_rate)\n",
        "train_step_l1 = my_opt_l1.minimize(loss_l1)\n",
        "loss_vec_l1 = []\n",
        "for i in range(iterations):\n",
        "    rand_index = np.random.choice(len(x_vals), size=batch_size)\n",
        "    rand_x = np.transpose([x_vals[rand_index]])\n",
        "    rand_y = np.transpose([y_vals[rand_index]])\n",
        "    sess.run(train_step_l1, feed_dict={x_data: rand_x, y_target: rand_y})\n",
        "    temp_loss_l1 = sess.run(loss_l1, feed_dict={x_data: rand_x, y_target: rand_y})\n",
        "    loss_vec_l1.append(temp_loss_l1)\n",
        "    if (i+1)%25==0:\n",
        "        print('Step #' + str(i+1) + ' A = ' + str(sess.run(A)) + ' b = ' + str(sess.run(b)))\n"
      ],
      "execution_count": 14,
      "outputs": [
        {
          "output_type": "stream",
          "text": [
            "Step #25 A = [[2.7019632]] b = [[2.0586882]]\n",
            "Step #50 A = [[2.2447627]] b = [[2.7426887]]\n"
          ],
          "name": "stdout"
        }
      ]
    },
    {
      "metadata": {
        "id": "XbPVYPDSv7UN",
        "colab_type": "code",
        "colab": {}
      },
      "cell_type": "code",
      "source": [
        "[slope] = sess.run(A)\n",
        "[y_intercept] = sess.run(b)\n",
        "best_fit = []\n",
        "for i in x_vals:\n",
        "  best_fit.append(slope*i+y_intercept)"
      ],
      "execution_count": 0,
      "outputs": []
    },
    {
      "metadata": {
        "id": "bk6dwLKDv-YO",
        "colab_type": "code",
        "colab": {
          "base_uri": "https://localhost:8080/",
          "height": 735
        },
        "outputId": "5e85b646-eb30-49a1-ccae-3db033d43ea9"
      },
      "cell_type": "code",
      "source": [
        "plt.plot(x_vals, y_vals, 'o', label='Data Points')\n",
        "plt.plot(x_vals, best_fit, 'r-', label='Best fit line', linewidth=3)\n",
        "plt.legend(loc='upper left')\n",
        "plt.title('Sepal Length vs Pedal Width')\n",
        "plt.xlabel('Pedal Width')\n",
        "plt.ylabel('Sepal Length')\n",
        "plt.show()\n",
        "plt.plot(loss_vec, 'k-')\n",
        "plt.title('L2 Loss per Generation')\n",
        "plt.xlabel('Generation')\n",
        "plt.ylabel('L2 Loss')\n",
        "plt.show()"
      ],
      "execution_count": 10,
      "outputs": [
        {
          "output_type": "display_data",
          "data": {
            "image/png": "[encoded data removed]",
            "text/plain": [
              "<matplotlib.figure.Figure at 0x7fe31544cc88>"
            ]
          },
          "metadata": {
            "tags": []
          }
        },
        {
          "output_type": "display_data",
          "data": {
            "image/png": "[encoded data removed]",
            "text/plain": [
              "<matplotlib.figure.Figure at 0x7fe3133c4f60>"
            ]
          },
          "metadata": {
            "tags": []
          }
        }
      ]
    },
    {
      "metadata": {
        "id": "IgSzfVF2wDdR",
        "colab_type": "code",
        "colab": {
          "base_uri": "https://localhost:8080/",
          "height": 323
        },
        "outputId": "ec78fdc6-100f-4e10-aaad-6f6540c8a816"
      },
      "cell_type": "code",
      "source": [
        "## FULL CODE - TRAIN TEST - CROSS ENTROPY LOSS \n",
        "import tensorflow as tf\n",
        "import numpy as np\n",
        "import pandas as pd\n",
        "from tensorflow.python.framework import ops\n",
        "ops.reset_default_graph()\n",
        "sess = tf.Session()\n",
        "batch_size = 25\n",
        "x_vals = np.concatenate((np.random.normal(-1, 1, 50), np.random.normal(2, 1, 50)))\n",
        "y_vals = np.concatenate((np.repeat(0., 50), np.repeat(1., 50)))\n",
        "x_data = tf.placeholder(shape=[1, None], dtype=tf.float32)\n",
        "y_target = tf.placeholder(shape=[1, None], dtype=tf.float32)\n",
        "train_indices = np.random.choice(len(x_vals), round(len(x_vals)*0.8), replace=False)\n",
        "test_indices = np.array(list(set(range(len(x_vals))) - set(train_indices)))\n",
        "x_vals_train = x_vals[train_indices]\n",
        "x_vals_test = x_vals[test_indices]\n",
        "y_vals_train = y_vals[train_indices]\n",
        "y_vals_test = y_vals[test_indices]\n",
        "A = tf.Variable(tf.random_normal(mean=10, shape=[1]))\n",
        "my_output = tf.add(x_data, A)\n",
        "init = tf.initialize_all_variables()\n",
        "sess.run(init)\n",
        "xentropy = tf.reduce_mean(tf.nn.sigmoid_cross_entropy_with_logits(labels = my_output, logits = y_target))\n",
        "my_opt = tf.train.GradientDescentOptimizer(0.05)\n",
        "train_step = my_opt.minimize(xentropy)\n",
        "for i in range(1800):\n",
        "    rand_index = np.random.choice(len(x_vals_train), size=batch_size)\n",
        "    rand_x = [x_vals_train[rand_index]]\n",
        "    rand_y = [y_vals_train[rand_index]]\n",
        "    sess.run(train_step, feed_dict={x_data: rand_x, y_target: rand_y})\n",
        "    if (i+1)%200==0:\n",
        "        print('Step #' + str(i+1) + ' A = ' + str(sess.run(A)))\n",
        "        print('Loss = ' + str(sess.run(xentropy, feed_dict={x_data: rand_x, y_target: rand_y})))\n",
        "\n"
      ],
      "execution_count": 10,
      "outputs": [
        {
          "output_type": "stream",
          "text": [
            "Step #200 A = [14.787413]\n",
            "Loss = -6.3211336\n",
            "Step #400 A = [19.597399]\n",
            "Loss = -6.036109\n",
            "Step #600 A = [24.583364]\n",
            "Loss = -12.83394\n",
            "Step #800 A = [29.393341]\n",
            "Loss = -10.365678\n",
            "Step #1000 A = [34.249325]\n",
            "Loss = -16.682446\n",
            "Step #1200 A = [39.221302]\n",
            "Loss = -14.127013\n",
            "Step #1400 A = [43.9973]\n",
            "Loss = -21.342468\n",
            "Step #1600 A = [48.863266]\n",
            "Loss = -21.43029\n",
            "Step #1800 A = [53.63325]\n",
            "Loss = -34.781696\n"
          ],
          "name": "stdout"
        }
      ]
    },
    {
      "metadata": {
        "id": "VBK-xxT4KOS_",
        "colab_type": "code",
        "colab": {
          "base_uri": "https://localhost:8080/",
          "height": 357
        },
        "outputId": "d33f036a-c812-4365-87b6-4aad31cfdef4"
      },
      "cell_type": "code",
      "source": [
        "x_vals"
      ],
      "execution_count": 11,
      "outputs": [
        {
          "output_type": "execute_result",
          "data": {
            "text/plain": [
              "array([ 0.40287393, -1.79474855, -1.96599619, -1.37896836, -2.33706863,\n",
              "        0.43294061, -0.9309012 ,  0.07033794, -0.72113351, -2.08489534,\n",
              "       -1.15797056, -0.21106305, -2.24437645, -2.47798761, -0.38881532,\n",
              "       -1.10979969, -1.74901801, -0.5380129 , -1.47957702, -1.29837747,\n",
              "       -1.53401131, -0.89241275,  0.09695672, -2.84835161, -0.97713578,\n",
              "       -0.34022093,  0.18611899, -0.27468753, -1.19640545, -1.0310458 ,\n",
              "       -0.24750973, -1.98190945, -2.1735219 , -0.02277984, -1.03307643,\n",
              "       -1.64688803, -1.74139568, -1.87403901, -0.07102282, -0.01184569,\n",
              "       -0.88558974, -0.60354915,  0.85331195, -1.48077804, -0.47680202,\n",
              "        0.12386182, -1.59929062, -3.25527539, -0.76415578, -1.86655426,\n",
              "        1.8584472 ,  1.33902636,  1.91179186,  2.09885383,  3.37732037,\n",
              "        2.38642269,  2.66775222,  2.83406211,  3.05057642,  3.08098553,\n",
              "        2.74051223,  3.17206689,  1.92557696,  1.6826902 ,  0.50109665,\n",
              "        1.54337374,  4.33825342,  2.83303916,  1.05716226,  2.43601688,\n",
              "        0.68010464,  2.96752606,  1.68114448,  1.31698284,  1.78373892,\n",
              "        2.71848484,  3.30234278,  3.69091844,  1.56724264,  2.23961093,\n",
              "        0.62928396,  2.98094361,  4.79453298,  1.80849221,  4.54131197,\n",
              "        3.1012364 ,  1.28012045,  2.27156739,  2.33299483,  1.35761593,\n",
              "        2.05844059,  0.37333093,  3.2403542 ,  1.95714843,  1.62167655,\n",
              "        2.31906999,  2.46352554,  1.93500284,  0.92989122,  1.09113069])"
            ]
          },
          "metadata": {
            "tags": []
          },
          "execution_count": 11
        }
      ]
    },
    {
      "metadata": {
        "id": "CRPf4FAYwxAG",
        "colab_type": "code",
        "colab": {
          "base_uri": "https://localhost:8080/",
          "height": 51
        },
        "outputId": "4e289203-e3dc-4044-c2ea-1f3ae53ad38d"
      },
      "cell_type": "code",
      "source": [
        "## MAKING PREDICTION AND CHECKING ACCURACY \n",
        "y_prediction = tf.squeeze(tf.round(tf.nn.sigmoid(tf.add(x_data, A))))\n",
        "correct_prediction = tf.equal(y_prediction, y_target)\n",
        "accuracy = tf.reduce_mean(tf.cast(correct_prediction, tf.float32))\n",
        "acc_value_test = sess.run(accuracy, feed_dict={x_data: [x_vals_test], y_target: [y_vals_test]})\n",
        "acc_value_train = sess.run(accuracy, feed_dict={x_data: [x_vals_train], y_target: [y_vals_train]})\n",
        "print('Accuracy on train set: ' + str(acc_value_train))\n",
        "print('Accuracy on test set: ' + str(acc_value_test))"
      ],
      "execution_count": 12,
      "outputs": [
        {
          "output_type": "stream",
          "text": [
            "Accuracy on train set: 0.5375\n",
            "Accuracy on test set: 0.35\n"
          ],
          "name": "stdout"
        }
      ]
    },
    {
      "metadata": {
        "id": "g4cbyjMp1AeV",
        "colab_type": "text"
      },
      "cell_type": "markdown",
      "source": [
        "**LOGISTIC REGRESSION **"
      ]
    },
    {
      "metadata": {
        "id": "JzAEyq1L2WtG",
        "colab_type": "code",
        "colab": {
          "base_uri": "https://localhost:8080/",
          "height": 194
        },
        "outputId": "26f3fdc0-5c29-4627-92e1-a306d4acafa2"
      },
      "cell_type": "code",
      "source": [
        ""
      ],
      "execution_count": 6,
      "outputs": [
        {
          "output_type": "execute_result",
          "data": {
            "text/plain": [
              "<Response [200]>"
            ]
          },
          "metadata": {
            "tags": []
          },
          "execution_count": 6
        }
      ]
    },
    {
      "metadata": {
        "id": "LchPDMCF2WqN",
        "colab_type": "code",
        "colab": {}
      },
      "cell_type": "code",
      "source": [
        ""
      ],
      "execution_count": 0,
      "outputs": []
    },
    {
      "metadata": {
        "id": "0PNH8jwV2Wm_",
        "colab_type": "code",
        "colab": {}
      },
      "cell_type": "code",
      "source": [
        ""
      ],
      "execution_count": 0,
      "outputs": []
    },
    {
      "metadata": {
        "id": "a3-Ega7p2WkH",
        "colab_type": "code",
        "colab": {}
      },
      "cell_type": "code",
      "source": [
        ""
      ],
      "execution_count": 0,
      "outputs": []
    },
    {
      "metadata": {
        "id": "DW8zu67M2Wg3",
        "colab_type": "code",
        "colab": {}
      },
      "cell_type": "code",
      "source": [
        ""
      ],
      "execution_count": 0,
      "outputs": []
    },
    {
      "metadata": {
        "id": "PxbFC5NV2Wdx",
        "colab_type": "code",
        "colab": {}
      },
      "cell_type": "code",
      "source": [
        ""
      ],
      "execution_count": 0,
      "outputs": []
    },
    {
      "metadata": {
        "id": "30JWCT2T2WTT",
        "colab_type": "code",
        "colab": {}
      },
      "cell_type": "code",
      "source": [
        ""
      ],
      "execution_count": 0,
      "outputs": []
    },
    {
      "metadata": {
        "id": "qcINJTsz2WQL",
        "colab_type": "code",
        "colab": {}
      },
      "cell_type": "code",
      "source": [
        ""
      ],
      "execution_count": 0,
      "outputs": []
    },
    {
      "metadata": {
        "id": "ywTRLu4i1wAm",
        "colab_type": "code",
        "colab": {
          "base_uri": "https://localhost:8080/",
          "height": 204
        },
        "outputId": "2100788a-fc4e-4093-d456-1f1df506cb43"
      },
      "cell_type": "code",
      "source": [
        "import tensorflow as tf\n",
        "sess = tf.Session()\n",
        "a = tf.Variable(tf.constant(4.))\n",
        "x_val = 5.\n",
        "x_data = tf.placeholder(dtype=tf.float32)\n",
        "multiplication = tf.multiply(a, x_data)\n",
        "loss = tf.square(tf.subtract(multiplication, 50.))\n",
        "init = tf.initialize_all_variables()\n",
        "sess.run(init)\n",
        "my_opt = tf.train.GradientDescentOptimizer(0.01)\n",
        "train_step = my_opt.minimize(loss)\n",
        "print('Optimizing a Multiplication Gate Output to 50.')\n",
        "for i in range(10):\n",
        "    sess.run(train_step, feed_dict={x_data: x_val})\n",
        "    a_val = sess.run(a)\n",
        "    mult_output = sess.run(multiplication, feed_dict={x_data: x_val})\n",
        "    print(str(a_val) + ' * ' + str(x_val) + ' = ' + str(mult_output))"
      ],
      "execution_count": 9,
      "outputs": [
        {
          "output_type": "stream",
          "text": [
            "Optimizing a Multiplication Gate Output to 50.\n",
            "7.0 * 5.0 = 35.0\n",
            "8.5 * 5.0 = 42.5\n",
            "9.25 * 5.0 = 46.25\n",
            "9.625 * 5.0 = 48.125\n",
            "9.8125 * 5.0 = 49.0625\n",
            "9.90625 * 5.0 = 49.53125\n",
            "9.953125 * 5.0 = 49.765625\n",
            "9.9765625 * 5.0 = 49.882812\n",
            "9.988281 * 5.0 = 49.941406\n",
            "9.994141 * 5.0 = 49.970703\n"
          ],
          "name": "stdout"
        }
      ]
    },
    {
      "metadata": {
        "id": "v92f8Qr91QnJ",
        "colab_type": "code",
        "colab": {
          "base_uri": "https://localhost:8080/",
          "height": 34
        },
        "outputId": "9f11ded5-43a2-4623-cf9f-c886ce862895"
      },
      "cell_type": "code",
      "source": [
        "import tensorflow as tf\n",
        "import numpy as np\n",
        "import matplotlib.pyplot as plt\n",
        "sess = tf.Session()\n",
        "tf.set_random_seed(50)\n",
        "np.random.seed(41)\n",
        "batch_size = 50\n",
        "a1 = tf.Variable(tf.random_normal(shape=[1,1]))\n",
        "b1 = tf.Variable(tf.random_uniform(shape=[1,1]))\n",
        "a2 = tf.Variable(tf.random_normal(shape=[1,1]))\n",
        "b2 = tf.Variable(tf.random_uniform(shape=[1,1]))\n",
        "x = np.random.normal(2, 0.1, 500)\n",
        "x_data = tf.placeholder(shape=[None, 1], dtype=tf.float32)\n",
        "sigmoid_activation = tf.sigmoid(tf.add(tf.matmul(x_data, a1), b1))\n",
        "relu_activation = tf.nn.relu(tf.add(tf.matmul(x_data, a2), b2))\n",
        "loss1 = tf.reduce_mean(tf.square(tf.subtract(sigmoid_activation, 0.75)))\n",
        "loss2 = tf.reduce_mean(tf.square(tf.subtract(relu_activation, 0.75)))\n",
        "my_opt = tf.train.GradientDescentOptimizer(0.01)\n",
        "train_step_sigmoid = my_opt.minimize(loss1)\n",
        "train_step_relu = my_opt.minimize(loss2)\n",
        "init = tf.initialize_all_variables()\n",
        "sess.run(init)\n",
        "loss_vec_sigmoid = []\n",
        "loss_vec_relu = []\n",
        "activation_sigmoid = []\n",
        "activation_relu = []\n",
        "for i in range(750):\n",
        "    rand_indices = np.random.choice(len(x), size=batch_size)\n",
        "    x_vals = np.transpose([x[rand_indices]])\n",
        "    sess.run(train_step_sigmoid, feed_dict={x_data: x_vals})\n",
        "    sess.run(train_step_relu, feed_dict={x_data: x_vals})\n",
        "\n",
        "    loss_vec_sigmoid.append(sess.run(loss1, feed_dict={x_data: x_vals}))\n",
        "    loss_vec_relu.append(sess.run(loss2, feed_dict={x_data: x_vals}))    \n",
        "\n",
        "activation_sigmoid.append(np.mean(sess.run(sigmoid_activation, feed_dict={x_data: x_vals})))\n",
        "activation_relu.append(np.mean(sess.run(relu_activation, feed_dict={x_data: x_vals})))\n",
        "activation_sigmoid\n"
      ],
      "execution_count": 16,
      "outputs": [
        {
          "output_type": "execute_result",
          "data": {
            "text/plain": [
              "[0.7353722]"
            ]
          },
          "metadata": {
            "tags": []
          },
          "execution_count": 16
        }
      ]
    },
    {
      "metadata": {
        "id": "4tb3pxxSMmc7",
        "colab_type": "code",
        "colab": {
          "base_uri": "https://localhost:8080/",
          "height": 735
        },
        "outputId": "546bec01-9dd5-416f-ce9a-a2d799cf68c9"
      },
      "cell_type": "code",
      "source": [
        "plt.plot(activation_sigmoid, 'k-', label='Sigmoid Activation')\n",
        "plt.plot(activation_relu, 'r--', label='Relu Activation')\n",
        "plt.ylim([0, 1.0])\n",
        "plt.title('Activation Outputs')\n",
        "plt.xlabel('Generation')\n",
        "plt.ylabel('Outputs')\n",
        "plt.legend(loc='upper right')\n",
        "plt.show()\n",
        "plt.plot(loss_vec_sigmoid, 'k-', label='Sigmoid Loss')\n",
        "plt.plot(loss_vec_relu, 'r--', label='Relu Loss')\n",
        "plt.ylim([0, 1.0])\n",
        "plt.title('Loss per Generation')\n",
        "plt.xlabel('Generation')\n",
        "plt.ylabel('Loss')\n",
        "plt.legend(loc='upper right')\n",
        "plt.show()"
      ],
      "execution_count": 17,
      "outputs": [
        {
          "output_type": "display_data",
          "data": {
            "image/png": "[encoded data removed]",
            "text/plain": [
              "<matplotlib.figure.Figure at 0x7f6fccbaf128>"
            ]
          },
          "metadata": {
            "tags": []
          }
        },
        {
          "output_type": "display_data",
          "data": {
            "image/png": "[encoded data removed]",
            "text/plain": [
              "<matplotlib.figure.Figure at 0x7f6fc95875f8>"
            ]
          },
          "metadata": {
            "tags": []
          }
        }
      ]
    },
    {
      "metadata": {
        "id": "lrTMRyGEM5yY",
        "colab_type": "code",
        "colab": {}
      },
      "cell_type": "code",
      "source": [
        ""
      ],
      "execution_count": 0,
      "outputs": []
    },
    {
      "metadata": {
        "id": "icUJMM1Toqpd",
        "colab_type": "text"
      },
      "cell_type": "markdown",
      "source": [
        "**CNN BASICS**"
      ]
    },
    {
      "metadata": {
        "id": "VdmGHDYFaVEj",
        "colab_type": "code",
        "colab": {}
      },
      "cell_type": "code",
      "source": [
        ""
      ],
      "execution_count": 0,
      "outputs": []
    },
    {
      "metadata": {
        "id": "PL88oZFBbAEu",
        "colab_type": "code",
        "colab": {}
      },
      "cell_type": "code",
      "source": [
        ""
      ],
      "execution_count": 0,
      "outputs": []
    }
  ]
}